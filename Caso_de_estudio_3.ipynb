{
  "nbformat": 4,
  "nbformat_minor": 0,
  "metadata": {
    "colab": {
      "name": "Caso_de_estudio_3.ipynb",
      "provenance": [],
      "collapsed_sections": [],
      "include_colab_link": true
    },
    "kernelspec": {
      "name": "python3",
      "display_name": "Python 3"
    },
    "language_info": {
      "name": "python"
    },
    "accelerator": "GPU"
  },
  "cells": [
    {
      "cell_type": "markdown",
      "metadata": {
        "id": "view-in-github",
        "colab_type": "text"
      },
      "source": [
        "<a href=\"https://colab.research.google.com/github/noe96cr/Caso-3/blob/main/Caso_de_estudio_3.ipynb\" target=\"_parent\"><img src=\"https://colab.research.google.com/assets/colab-badge.svg\" alt=\"Open In Colab\"/></a>"
      ]
    },
    {
      "cell_type": "markdown",
      "metadata": {
        "id": "DCVObBxt3BkA"
      },
      "source": [
        "#1. Importar CSV en Python"
      ]
    },
    {
      "cell_type": "code",
      "metadata": {
        "colab": {
          "base_uri": "https://localhost:8080/"
        },
        "id": "6XqhaID-2QJW",
        "outputId": "b63feab1-9c88-406c-ef09-f7e3f08e186b"
      },
      "source": [
        "# Se conecta con GoogleDrive\n",
        "from google.colab import drive\n",
        "drive.mount('/content/drive')"
      ],
      "execution_count": 245,
      "outputs": [
        {
          "output_type": "stream",
          "text": [
            "Drive already mounted at /content/drive; to attempt to forcibly remount, call drive.mount(\"/content/drive\", force_remount=True).\n"
          ],
          "name": "stdout"
        }
      ]
    },
    {
      "cell_type": "code",
      "metadata": {
        "id": "imiNfX92Y6n3"
      },
      "source": [
        "# Se cargan las librerias necesarias\n",
        "import numpy as np\n",
        "import pandas as pd\n",
        "\n",
        "\n",
        "# Se cargan los datos adquiridos\n",
        "# df = dataframe\n",
        "df1 = pd.read_csv('drive/MyDrive/Caso#3/datosSinProcesar/data.csv' , sep=';')\n",
        "\n",
        "# CABE DESTACAR QUE:\n",
        "# Cada paso guarda el DataFrame en una variable diferente, con la intencion de saber\n",
        "# en que paso se esta ubicado, por ejemplo, el paso #9 tendria df9, mientras que\n",
        "# el paso #3 tendria df3."
      ],
      "execution_count": 246,
      "outputs": []
    },
    {
      "cell_type": "markdown",
      "metadata": {
        "id": "U0T6Yrrg3MPr"
      },
      "source": [
        "#2. Primeros 5 valores del dataframe"
      ]
    },
    {
      "cell_type": "code",
      "metadata": {
        "colab": {
          "base_uri": "https://localhost:8080/",
          "height": 204
        },
        "id": "E3UCRzkIuwMD",
        "outputId": "91d5d01c-1ee9-4d97-b6c3-40957d5ab7ad"
      },
      "source": [
        "df2 = df1\n",
        "\n",
        "\n",
        "# Se imprimen las 5 primeras filas con todas sus columnas y valores.\n",
        "df2.head()"
      ],
      "execution_count": 247,
      "outputs": [
        {
          "output_type": "execute_result",
          "data": {
            "text/html": [
              "<div>\n",
              "<style scoped>\n",
              "    .dataframe tbody tr th:only-of-type {\n",
              "        vertical-align: middle;\n",
              "    }\n",
              "\n",
              "    .dataframe tbody tr th {\n",
              "        vertical-align: top;\n",
              "    }\n",
              "\n",
              "    .dataframe thead th {\n",
              "        text-align: right;\n",
              "    }\n",
              "</style>\n",
              "<table border=\"1\" class=\"dataframe\">\n",
              "  <thead>\n",
              "    <tr style=\"text-align: right;\">\n",
              "      <th></th>\n",
              "      <th>id</th>\n",
              "      <th>FirstName</th>\n",
              "      <th>LastName</th>\n",
              "      <th>Gender</th>\n",
              "      <th>Birthday</th>\n",
              "      <th>Status</th>\n",
              "      <th>Salary</th>\n",
              "      <th>Taxes</th>\n",
              "      <th>Department</th>\n",
              "      <th>HourlyRate</th>\n",
              "      <th>MaritalStatus</th>\n",
              "      <th>OverTime</th>\n",
              "    </tr>\n",
              "  </thead>\n",
              "  <tbody>\n",
              "    <tr>\n",
              "      <th>0</th>\n",
              "      <td>1</td>\n",
              "      <td>Kimberley</td>\n",
              "      <td>Kuhic</td>\n",
              "      <td>F</td>\n",
              "      <td>15/5/90</td>\n",
              "      <td>--</td>\n",
              "      <td>110182.0</td>\n",
              "      <td>NaN</td>\n",
              "      <td>Sales</td>\n",
              "      <td>40</td>\n",
              "      <td>Single</td>\n",
              "      <td>Yes</td>\n",
              "    </tr>\n",
              "    <tr>\n",
              "      <th>1</th>\n",
              "      <td>1</td>\n",
              "      <td>Kitty</td>\n",
              "      <td>Ruecker</td>\n",
              "      <td>F</td>\n",
              "      <td>24/7/76</td>\n",
              "      <td>PE</td>\n",
              "      <td>90613.0</td>\n",
              "      <td>NaN</td>\n",
              "      <td>Sales</td>\n",
              "      <td>76</td>\n",
              "      <td>Married</td>\n",
              "      <td>No</td>\n",
              "    </tr>\n",
              "    <tr>\n",
              "      <th>2</th>\n",
              "      <td>5</td>\n",
              "      <td>Jamal</td>\n",
              "      <td>Cole</td>\n",
              "      <td>M</td>\n",
              "      <td>31/1/83</td>\n",
              "      <td>PE</td>\n",
              "      <td>109251.0</td>\n",
              "      <td>NaN</td>\n",
              "      <td>Research &amp; Development</td>\n",
              "      <td>89</td>\n",
              "      <td>Single</td>\n",
              "      <td>Yes</td>\n",
              "    </tr>\n",
              "    <tr>\n",
              "      <th>3</th>\n",
              "      <td>5</td>\n",
              "      <td>Christopher</td>\n",
              "      <td>D'Amore</td>\n",
              "      <td>F</td>\n",
              "      <td>16/3/74</td>\n",
              "      <td>PE</td>\n",
              "      <td>103614.0</td>\n",
              "      <td>NaN</td>\n",
              "      <td>Sales</td>\n",
              "      <td>78</td>\n",
              "      <td>Married</td>\n",
              "      <td>No</td>\n",
              "    </tr>\n",
              "    <tr>\n",
              "      <th>4</th>\n",
              "      <td>5</td>\n",
              "      <td>Carly</td>\n",
              "      <td>Ratke</td>\n",
              "      <td>M</td>\n",
              "      <td>16/1/98</td>\n",
              "      <td>PE</td>\n",
              "      <td>88315.0</td>\n",
              "      <td>NaN</td>\n",
              "      <td>Research &amp; Development</td>\n",
              "      <td>86</td>\n",
              "      <td>Single</td>\n",
              "      <td>Yes</td>\n",
              "    </tr>\n",
              "  </tbody>\n",
              "</table>\n",
              "</div>"
            ],
            "text/plain": [
              "   id    FirstName LastName  ... HourlyRate MaritalStatus OverTime\n",
              "0   1    Kimberley    Kuhic  ...         40        Single      Yes\n",
              "1   1        Kitty  Ruecker  ...         76       Married       No\n",
              "2   5        Jamal     Cole  ...         89        Single      Yes\n",
              "3   5  Christopher  D'Amore  ...         78       Married       No\n",
              "4   5        Carly    Ratke  ...         86        Single      Yes\n",
              "\n",
              "[5 rows x 12 columns]"
            ]
          },
          "metadata": {
            "tags": []
          },
          "execution_count": 247
        }
      ]
    },
    {
      "cell_type": "markdown",
      "metadata": {
        "id": "unPGlfUe3Zmv"
      },
      "source": [
        "#3. Últimos 5 valores del dataframe"
      ]
    },
    {
      "cell_type": "code",
      "metadata": {
        "colab": {
          "base_uri": "https://localhost:8080/",
          "height": 272
        },
        "id": "S5HBPUdBxfEy",
        "outputId": "783a1ecf-ffd2-443a-cdde-418a9a37d901"
      },
      "source": [
        "df3 = df2\n",
        "\n",
        "\n",
        "# Se imprimen las 5 ultimas filas con todas sus columnas y valores.\n",
        "df3.tail()"
      ],
      "execution_count": 248,
      "outputs": [
        {
          "output_type": "execute_result",
          "data": {
            "text/html": [
              "<div>\n",
              "<style scoped>\n",
              "    .dataframe tbody tr th:only-of-type {\n",
              "        vertical-align: middle;\n",
              "    }\n",
              "\n",
              "    .dataframe tbody tr th {\n",
              "        vertical-align: top;\n",
              "    }\n",
              "\n",
              "    .dataframe thead th {\n",
              "        text-align: right;\n",
              "    }\n",
              "</style>\n",
              "<table border=\"1\" class=\"dataframe\">\n",
              "  <thead>\n",
              "    <tr style=\"text-align: right;\">\n",
              "      <th></th>\n",
              "      <th>id</th>\n",
              "      <th>FirstName</th>\n",
              "      <th>LastName</th>\n",
              "      <th>Gender</th>\n",
              "      <th>Birthday</th>\n",
              "      <th>Status</th>\n",
              "      <th>Salary</th>\n",
              "      <th>Taxes</th>\n",
              "      <th>Department</th>\n",
              "      <th>HourlyRate</th>\n",
              "      <th>MaritalStatus</th>\n",
              "      <th>OverTime</th>\n",
              "    </tr>\n",
              "  </thead>\n",
              "  <tbody>\n",
              "    <tr>\n",
              "      <th>995</th>\n",
              "      <td>996</td>\n",
              "      <td>Linnie</td>\n",
              "      <td>Larson</td>\n",
              "      <td>F</td>\n",
              "      <td>4/3/80</td>\n",
              "      <td>PE</td>\n",
              "      <td>92815.0</td>\n",
              "      <td>NaN</td>\n",
              "      <td>Research &amp; Development</td>\n",
              "      <td>92</td>\n",
              "      <td>Single</td>\n",
              "      <td>Yes</td>\n",
              "    </tr>\n",
              "    <tr>\n",
              "      <th>996</th>\n",
              "      <td>997</td>\n",
              "      <td>Agusta</td>\n",
              "      <td>Emmerich</td>\n",
              "      <td>M</td>\n",
              "      <td>5/12/72</td>\n",
              "      <td>PE</td>\n",
              "      <td>114085.0</td>\n",
              "      <td>NaN</td>\n",
              "      <td>Research &amp; Development</td>\n",
              "      <td>91</td>\n",
              "      <td>Divorced</td>\n",
              "      <td>No</td>\n",
              "    </tr>\n",
              "    <tr>\n",
              "      <th>997</th>\n",
              "      <td>997</td>\n",
              "      <td>Andrew</td>\n",
              "      <td>Schulist</td>\n",
              "      <td>F</td>\n",
              "      <td>2/1/71</td>\n",
              "      <td>PE</td>\n",
              "      <td>101940.0</td>\n",
              "      <td>NaN</td>\n",
              "      <td>Research &amp; Development</td>\n",
              "      <td>34</td>\n",
              "      <td>Single</td>\n",
              "      <td>No</td>\n",
              "    </tr>\n",
              "    <tr>\n",
              "      <th>998</th>\n",
              "      <td>997</td>\n",
              "      <td>Brook</td>\n",
              "      <td>Turner</td>\n",
              "      <td>M</td>\n",
              "      <td>21/6/90</td>\n",
              "      <td>NaN</td>\n",
              "      <td>80734.0</td>\n",
              "      <td>NaN</td>\n",
              "      <td>Research &amp; Development</td>\n",
              "      <td>49</td>\n",
              "      <td>Married</td>\n",
              "      <td>No</td>\n",
              "    </tr>\n",
              "    <tr>\n",
              "      <th>999</th>\n",
              "      <td>999</td>\n",
              "      <td>Maceo</td>\n",
              "      <td>Wisoky</td>\n",
              "      <td>M</td>\n",
              "      <td>12/11/83</td>\n",
              "      <td>PE</td>\n",
              "      <td>142838.0</td>\n",
              "      <td>NaN</td>\n",
              "      <td>Human Resources</td>\n",
              "      <td>33</td>\n",
              "      <td>Married</td>\n",
              "      <td>No</td>\n",
              "    </tr>\n",
              "  </tbody>\n",
              "</table>\n",
              "</div>"
            ],
            "text/plain": [
              "      id FirstName  LastName  ... HourlyRate MaritalStatus OverTime\n",
              "995  996    Linnie    Larson  ...         92        Single      Yes\n",
              "996  997    Agusta  Emmerich  ...         91      Divorced       No\n",
              "997  997    Andrew  Schulist  ...         34        Single       No\n",
              "998  997     Brook    Turner  ...         49       Married       No\n",
              "999  999     Maceo    Wisoky  ...         33       Married       No\n",
              "\n",
              "[5 rows x 12 columns]"
            ]
          },
          "metadata": {
            "tags": []
          },
          "execution_count": 248
        }
      ]
    },
    {
      "cell_type": "markdown",
      "metadata": {
        "id": "Usy-M9H53k63"
      },
      "source": [
        "#4. Tipo de dato de cada columna"
      ]
    },
    {
      "cell_type": "code",
      "metadata": {
        "id": "R4T5rgXtxkHS",
        "colab": {
          "base_uri": "https://localhost:8080/"
        },
        "outputId": "f42e2daa-1da3-412d-9441-6a5b598e97fc"
      },
      "source": [
        "df4 = df3\n",
        "\n",
        "\n",
        "# Se imprime cada columna de lado izquierdo, y a su derecha el tipo de dato a que corresponde.\n",
        "df4.dtypes"
      ],
      "execution_count": 249,
      "outputs": [
        {
          "output_type": "execute_result",
          "data": {
            "text/plain": [
              "id                 int64\n",
              "FirstName         object\n",
              "LastName          object\n",
              "Gender            object\n",
              "Birthday          object\n",
              "Status            object\n",
              "Salary           float64\n",
              "Taxes             object\n",
              "Department        object\n",
              "HourlyRate        object\n",
              "MaritalStatus     object\n",
              "OverTime          object\n",
              "dtype: object"
            ]
          },
          "metadata": {
            "tags": []
          },
          "execution_count": 249
        }
      ]
    },
    {
      "cell_type": "markdown",
      "metadata": {
        "id": "EPSfMfNH4E-8"
      },
      "source": [
        "#5. Cantidad de valores nulos por columna"
      ]
    },
    {
      "cell_type": "code",
      "metadata": {
        "colab": {
          "base_uri": "https://localhost:8080/"
        },
        "id": "TdHbaKhg3_3H",
        "outputId": "a47f70fc-69e5-4e9c-f7e3-e0e1127fa579"
      },
      "source": [
        "df5 = df4\n",
        "\n",
        "\n",
        "# Nuevamente el nombre de la columna de lado izquierdo, y a su derecha la cantidad de NaN que tiene dicha columna.\n",
        "df5.isnull().sum()"
      ],
      "execution_count": 250,
      "outputs": [
        {
          "output_type": "execute_result",
          "data": {
            "text/plain": [
              "id                 0\n",
              "FirstName          2\n",
              "LastName           2\n",
              "Gender           207\n",
              "Birthday           2\n",
              "Status           178\n",
              "Salary             2\n",
              "Taxes            993\n",
              "Department        12\n",
              "HourlyRate         2\n",
              "MaritalStatus     25\n",
              "OverTime           2\n",
              "dtype: int64"
            ]
          },
          "metadata": {
            "tags": []
          },
          "execution_count": 250
        }
      ]
    },
    {
      "cell_type": "markdown",
      "metadata": {
        "id": "p7WQN31wLly3"
      },
      "source": [
        "# 6. Porcentaje total de valores perdidos en todo el dataframe"
      ]
    },
    {
      "cell_type": "code",
      "metadata": {
        "colab": {
          "base_uri": "https://localhost:8080/"
        },
        "id": "g5atv0MVMKCt",
        "outputId": "4d984459-c510-4abb-d0ab-2e42c9dd1de4"
      },
      "source": [
        "df6 = df5\n",
        "\n",
        "\n",
        "# Se divide la cantidad de valores NaN de todo el DataFrame entre todos los datos del DataFrame,\n",
        "# Luego se multiplica por 100, para que el valor sea un porcentaje.\n",
        "(df6.isnull().sum().sum()/df6.count().sum().sum())*100"
      ],
      "execution_count": 251,
      "outputs": [
        {
          "output_type": "execute_result",
          "data": {
            "text/plain": [
              "13.496642390995934"
            ]
          },
          "metadata": {
            "tags": []
          },
          "execution_count": 251
        }
      ]
    },
    {
      "cell_type": "markdown",
      "metadata": {
        "id": "jeOlKIVq4WAe"
      },
      "source": [
        "#7. Porcentaje de valores perdidos por columna"
      ]
    },
    {
      "cell_type": "code",
      "metadata": {
        "colab": {
          "base_uri": "https://localhost:8080/"
        },
        "id": "UXzikVLZIqw2",
        "outputId": "81a4d4be-8438-4a80-c9e1-f3445359e7e1"
      },
      "source": [
        "df7 = df6\n",
        "\n",
        "\n",
        "# Igual que el paso anterior, pero, en este caso no se da un resultado total del DataFrame, sino\n",
        "# que se da el resultado por columna.\n",
        "(df7.isnull().sum()/(df7.count()+df7.isnull().sum()))*100"
      ],
      "execution_count": 252,
      "outputs": [
        {
          "output_type": "execute_result",
          "data": {
            "text/plain": [
              "id                0.0\n",
              "FirstName         0.2\n",
              "LastName          0.2\n",
              "Gender           20.7\n",
              "Birthday          0.2\n",
              "Status           17.8\n",
              "Salary            0.2\n",
              "Taxes            99.3\n",
              "Department        1.2\n",
              "HourlyRate        0.2\n",
              "MaritalStatus     2.5\n",
              "OverTime          0.2\n",
              "dtype: float64"
            ]
          },
          "metadata": {
            "tags": []
          },
          "execution_count": 252
        }
      ]
    },
    {
      "cell_type": "markdown",
      "metadata": {
        "id": "Kr1mC1Y6NQsu"
      },
      "source": [
        "#8. Eliminar columna que tenga más de 70% de valores nulos"
      ]
    },
    {
      "cell_type": "code",
      "metadata": {
        "colab": {
          "base_uri": "https://localhost:8080/"
        },
        "id": "1_sY3XLpSfez",
        "outputId": "2491fe74-1ca7-4a0d-f69c-38abefe90094"
      },
      "source": [
        "df8 = df7\n",
        "\n",
        "\n",
        "# Ya que en el paso anterior se observa que la columna Taxes tiene casi un 100% de valores NaN\n",
        "# Entonces se procede a eliminar esa columna\n",
        "print(df7)\n",
        "del df7['Taxes']"
      ],
      "execution_count": 253,
      "outputs": [
        {
          "output_type": "stream",
          "text": [
            "      id    FirstName  LastName  ... HourlyRate MaritalStatus OverTime\n",
            "0      1    Kimberley     Kuhic  ...         40        Single      Yes\n",
            "1      1        Kitty   Ruecker  ...         76       Married       No\n",
            "2      5        Jamal      Cole  ...         89        Single      Yes\n",
            "3      5  Christopher   D'Amore  ...         78       Married       No\n",
            "4      5        Carly     Ratke  ...         86        Single      Yes\n",
            "..   ...          ...       ...  ...        ...           ...      ...\n",
            "995  996       Linnie    Larson  ...         92        Single      Yes\n",
            "996  997       Agusta  Emmerich  ...         91      Divorced       No\n",
            "997  997       Andrew  Schulist  ...         34        Single       No\n",
            "998  997        Brook    Turner  ...         49       Married       No\n",
            "999  999        Maceo    Wisoky  ...         33       Married       No\n",
            "\n",
            "[1000 rows x 12 columns]\n"
          ],
          "name": "stdout"
        }
      ]
    },
    {
      "cell_type": "markdown",
      "metadata": {
        "id": "7sqpNQwbWz9g"
      },
      "source": [
        "#9. Eliminar filas con menos de dos elementos "
      ]
    },
    {
      "cell_type": "code",
      "metadata": {
        "id": "ou8yUqdpT-Sy"
      },
      "source": [
        "df9 = df8\n",
        "\n",
        "\n",
        "# En este paso obtenemos aquellas filas que tienen más de 2 elementos NaN en su fila. \n",
        "# Luego eliminamos esas filas y volvemos a comprobar que ninguna fila cuenta con más de 2 columnas con NaN.\n",
        "a = df8.isnull().sum(axis=1)"
      ],
      "execution_count": 254,
      "outputs": []
    },
    {
      "cell_type": "code",
      "metadata": {
        "colab": {
          "base_uri": "https://localhost:8080/"
        },
        "id": "7n17iuY0m0yF",
        "outputId": "235637c0-0c48-4a59-8bfe-ad56f02bbf94"
      },
      "source": [
        "print(a[a>2])"
      ],
      "execution_count": 255,
      "outputs": [
        {
          "output_type": "stream",
          "text": [
            "182    10\n",
            "239     3\n",
            "592    10\n",
            "dtype: int64\n"
          ],
          "name": "stdout"
        }
      ]
    },
    {
      "cell_type": "code",
      "metadata": {
        "id": "wEDIpt-JnUaP"
      },
      "source": [
        "df9 = df8.drop([182, 239, 592],axis=0)"
      ],
      "execution_count": 256,
      "outputs": []
    },
    {
      "cell_type": "code",
      "metadata": {
        "id": "coE0c0HQqGmw"
      },
      "source": [
        "a = df9.isnull().sum(axis=1)"
      ],
      "execution_count": 257,
      "outputs": []
    },
    {
      "cell_type": "code",
      "metadata": {
        "colab": {
          "base_uri": "https://localhost:8080/"
        },
        "id": "dBmp1C-mqI9Z",
        "outputId": "e90e783e-38aa-401d-b7ab-cf7478871f13"
      },
      "source": [
        "print(a[a>2])"
      ],
      "execution_count": 258,
      "outputs": [
        {
          "output_type": "stream",
          "text": [
            "Series([], dtype: int64)\n"
          ],
          "name": "stdout"
        }
      ]
    },
    {
      "cell_type": "markdown",
      "metadata": {
        "id": "SVqsbNk3qouU"
      },
      "source": [
        "#10. Reemplace los String “--\" por valores nulos"
      ]
    },
    {
      "cell_type": "code",
      "metadata": {
        "colab": {
          "base_uri": "https://localhost:8080/",
          "height": 204
        },
        "id": "tAETuUQT56j7",
        "outputId": "79afaf2f-48ee-46d3-f39e-ad095157d55c"
      },
      "source": [
        "df10 = df9\n",
        "\n",
        "\n",
        "# Se comprueba que efectivamente hay valores \"--\". Como en la primer fila el Status tiene \"--\"\n",
        "df9.head()"
      ],
      "execution_count": 259,
      "outputs": [
        {
          "output_type": "execute_result",
          "data": {
            "text/html": [
              "<div>\n",
              "<style scoped>\n",
              "    .dataframe tbody tr th:only-of-type {\n",
              "        vertical-align: middle;\n",
              "    }\n",
              "\n",
              "    .dataframe tbody tr th {\n",
              "        vertical-align: top;\n",
              "    }\n",
              "\n",
              "    .dataframe thead th {\n",
              "        text-align: right;\n",
              "    }\n",
              "</style>\n",
              "<table border=\"1\" class=\"dataframe\">\n",
              "  <thead>\n",
              "    <tr style=\"text-align: right;\">\n",
              "      <th></th>\n",
              "      <th>id</th>\n",
              "      <th>FirstName</th>\n",
              "      <th>LastName</th>\n",
              "      <th>Gender</th>\n",
              "      <th>Birthday</th>\n",
              "      <th>Status</th>\n",
              "      <th>Salary</th>\n",
              "      <th>Department</th>\n",
              "      <th>HourlyRate</th>\n",
              "      <th>MaritalStatus</th>\n",
              "      <th>OverTime</th>\n",
              "    </tr>\n",
              "  </thead>\n",
              "  <tbody>\n",
              "    <tr>\n",
              "      <th>0</th>\n",
              "      <td>1</td>\n",
              "      <td>Kimberley</td>\n",
              "      <td>Kuhic</td>\n",
              "      <td>F</td>\n",
              "      <td>15/5/90</td>\n",
              "      <td>--</td>\n",
              "      <td>110182.0</td>\n",
              "      <td>Sales</td>\n",
              "      <td>40</td>\n",
              "      <td>Single</td>\n",
              "      <td>Yes</td>\n",
              "    </tr>\n",
              "    <tr>\n",
              "      <th>1</th>\n",
              "      <td>1</td>\n",
              "      <td>Kitty</td>\n",
              "      <td>Ruecker</td>\n",
              "      <td>F</td>\n",
              "      <td>24/7/76</td>\n",
              "      <td>PE</td>\n",
              "      <td>90613.0</td>\n",
              "      <td>Sales</td>\n",
              "      <td>76</td>\n",
              "      <td>Married</td>\n",
              "      <td>No</td>\n",
              "    </tr>\n",
              "    <tr>\n",
              "      <th>2</th>\n",
              "      <td>5</td>\n",
              "      <td>Jamal</td>\n",
              "      <td>Cole</td>\n",
              "      <td>M</td>\n",
              "      <td>31/1/83</td>\n",
              "      <td>PE</td>\n",
              "      <td>109251.0</td>\n",
              "      <td>Research &amp; Development</td>\n",
              "      <td>89</td>\n",
              "      <td>Single</td>\n",
              "      <td>Yes</td>\n",
              "    </tr>\n",
              "    <tr>\n",
              "      <th>3</th>\n",
              "      <td>5</td>\n",
              "      <td>Christopher</td>\n",
              "      <td>D'Amore</td>\n",
              "      <td>F</td>\n",
              "      <td>16/3/74</td>\n",
              "      <td>PE</td>\n",
              "      <td>103614.0</td>\n",
              "      <td>Sales</td>\n",
              "      <td>78</td>\n",
              "      <td>Married</td>\n",
              "      <td>No</td>\n",
              "    </tr>\n",
              "    <tr>\n",
              "      <th>4</th>\n",
              "      <td>5</td>\n",
              "      <td>Carly</td>\n",
              "      <td>Ratke</td>\n",
              "      <td>M</td>\n",
              "      <td>16/1/98</td>\n",
              "      <td>PE</td>\n",
              "      <td>88315.0</td>\n",
              "      <td>Research &amp; Development</td>\n",
              "      <td>86</td>\n",
              "      <td>Single</td>\n",
              "      <td>Yes</td>\n",
              "    </tr>\n",
              "  </tbody>\n",
              "</table>\n",
              "</div>"
            ],
            "text/plain": [
              "   id    FirstName LastName  ... HourlyRate MaritalStatus OverTime\n",
              "0   1    Kimberley    Kuhic  ...         40        Single      Yes\n",
              "1   1        Kitty  Ruecker  ...         76       Married       No\n",
              "2   5        Jamal     Cole  ...         89        Single      Yes\n",
              "3   5  Christopher  D'Amore  ...         78       Married       No\n",
              "4   5        Carly    Ratke  ...         86        Single      Yes\n",
              "\n",
              "[5 rows x 11 columns]"
            ]
          },
          "metadata": {
            "tags": []
          },
          "execution_count": 259
        }
      ]
    },
    {
      "cell_type": "code",
      "metadata": {
        "id": "UPrWiXoSq0Y9"
      },
      "source": [
        "# Se realiza el codigo, reemplazando los valores \"--\" por NaN\n",
        "df10 = df9.replace(\"--\", np.nan)"
      ],
      "execution_count": 260,
      "outputs": []
    },
    {
      "cell_type": "code",
      "metadata": {
        "colab": {
          "base_uri": "https://localhost:8080/",
          "height": 204
        },
        "id": "UjpthAXYtg2_",
        "outputId": "449279a0-ca34-4227-ffce-eb983d20c27a"
      },
      "source": [
        "df10.head()\n",
        "# De esta forma se observa que la primer persona quien anteriormente tenía un Status = \"--\" Ahora\n",
        "# tiene NaN, por lo tanto, sí funcionó."
      ],
      "execution_count": 261,
      "outputs": [
        {
          "output_type": "execute_result",
          "data": {
            "text/html": [
              "<div>\n",
              "<style scoped>\n",
              "    .dataframe tbody tr th:only-of-type {\n",
              "        vertical-align: middle;\n",
              "    }\n",
              "\n",
              "    .dataframe tbody tr th {\n",
              "        vertical-align: top;\n",
              "    }\n",
              "\n",
              "    .dataframe thead th {\n",
              "        text-align: right;\n",
              "    }\n",
              "</style>\n",
              "<table border=\"1\" class=\"dataframe\">\n",
              "  <thead>\n",
              "    <tr style=\"text-align: right;\">\n",
              "      <th></th>\n",
              "      <th>id</th>\n",
              "      <th>FirstName</th>\n",
              "      <th>LastName</th>\n",
              "      <th>Gender</th>\n",
              "      <th>Birthday</th>\n",
              "      <th>Status</th>\n",
              "      <th>Salary</th>\n",
              "      <th>Department</th>\n",
              "      <th>HourlyRate</th>\n",
              "      <th>MaritalStatus</th>\n",
              "      <th>OverTime</th>\n",
              "    </tr>\n",
              "  </thead>\n",
              "  <tbody>\n",
              "    <tr>\n",
              "      <th>0</th>\n",
              "      <td>1</td>\n",
              "      <td>Kimberley</td>\n",
              "      <td>Kuhic</td>\n",
              "      <td>F</td>\n",
              "      <td>15/5/90</td>\n",
              "      <td>NaN</td>\n",
              "      <td>110182.0</td>\n",
              "      <td>Sales</td>\n",
              "      <td>40</td>\n",
              "      <td>Single</td>\n",
              "      <td>Yes</td>\n",
              "    </tr>\n",
              "    <tr>\n",
              "      <th>1</th>\n",
              "      <td>1</td>\n",
              "      <td>Kitty</td>\n",
              "      <td>Ruecker</td>\n",
              "      <td>F</td>\n",
              "      <td>24/7/76</td>\n",
              "      <td>PE</td>\n",
              "      <td>90613.0</td>\n",
              "      <td>Sales</td>\n",
              "      <td>76</td>\n",
              "      <td>Married</td>\n",
              "      <td>No</td>\n",
              "    </tr>\n",
              "    <tr>\n",
              "      <th>2</th>\n",
              "      <td>5</td>\n",
              "      <td>Jamal</td>\n",
              "      <td>Cole</td>\n",
              "      <td>M</td>\n",
              "      <td>31/1/83</td>\n",
              "      <td>PE</td>\n",
              "      <td>109251.0</td>\n",
              "      <td>Research &amp; Development</td>\n",
              "      <td>89</td>\n",
              "      <td>Single</td>\n",
              "      <td>Yes</td>\n",
              "    </tr>\n",
              "    <tr>\n",
              "      <th>3</th>\n",
              "      <td>5</td>\n",
              "      <td>Christopher</td>\n",
              "      <td>D'Amore</td>\n",
              "      <td>F</td>\n",
              "      <td>16/3/74</td>\n",
              "      <td>PE</td>\n",
              "      <td>103614.0</td>\n",
              "      <td>Sales</td>\n",
              "      <td>78</td>\n",
              "      <td>Married</td>\n",
              "      <td>No</td>\n",
              "    </tr>\n",
              "    <tr>\n",
              "      <th>4</th>\n",
              "      <td>5</td>\n",
              "      <td>Carly</td>\n",
              "      <td>Ratke</td>\n",
              "      <td>M</td>\n",
              "      <td>16/1/98</td>\n",
              "      <td>PE</td>\n",
              "      <td>88315.0</td>\n",
              "      <td>Research &amp; Development</td>\n",
              "      <td>86</td>\n",
              "      <td>Single</td>\n",
              "      <td>Yes</td>\n",
              "    </tr>\n",
              "  </tbody>\n",
              "</table>\n",
              "</div>"
            ],
            "text/plain": [
              "   id    FirstName LastName  ... HourlyRate MaritalStatus OverTime\n",
              "0   1    Kimberley    Kuhic  ...         40        Single      Yes\n",
              "1   1        Kitty  Ruecker  ...         76       Married       No\n",
              "2   5        Jamal     Cole  ...         89        Single      Yes\n",
              "3   5  Christopher  D'Amore  ...         78       Married       No\n",
              "4   5        Carly    Ratke  ...         86        Single      Yes\n",
              "\n",
              "[5 rows x 11 columns]"
            ]
          },
          "metadata": {
            "tags": []
          },
          "execution_count": 261
        }
      ]
    },
    {
      "cell_type": "markdown",
      "metadata": {
        "id": "v_8a9uqNt5k0"
      },
      "source": [
        "#11. Reemplazar los valores nulos de la columna de “Gender” por U (Unknown) para aquellos empleados que no especificaron este campo."
      ]
    },
    {
      "cell_type": "code",
      "metadata": {
        "id": "0gv56DP0zjE2"
      },
      "source": [
        "df11 = df10"
      ],
      "execution_count": 262,
      "outputs": []
    },
    {
      "cell_type": "code",
      "metadata": {
        "id": "NiwMuobBuEQA"
      },
      "source": [
        "df11['Gender'].fillna(\"U\", inplace=True)"
      ],
      "execution_count": 263,
      "outputs": []
    },
    {
      "cell_type": "code",
      "metadata": {
        "colab": {
          "base_uri": "https://localhost:8080/"
        },
        "id": "4uB_u-J1u5hp",
        "outputId": "7dc149f7-bf2f-4411-bce6-f7247a0f87da"
      },
      "source": [
        "df11.isnull().sum()\n",
        "# De esta forma se comprueba que Gender quedó con 0 NaN."
      ],
      "execution_count": 264,
      "outputs": [
        {
          "output_type": "execute_result",
          "data": {
            "text/plain": [
              "id                 0\n",
              "FirstName          0\n",
              "LastName           0\n",
              "Gender             0\n",
              "Birthday           0\n",
              "Status           186\n",
              "Salary             0\n",
              "Department        10\n",
              "HourlyRate        25\n",
              "MaritalStatus     22\n",
              "OverTime           0\n",
              "dtype: int64"
            ]
          },
          "metadata": {
            "tags": []
          },
          "execution_count": 264
        }
      ]
    },
    {
      "cell_type": "markdown",
      "metadata": {
        "id": "Kh5w81ZaxsUr"
      },
      "source": [
        "#12. Reemplazar los valores nulos de la columna “Departamento” por “Bench”"
      ]
    },
    {
      "cell_type": "code",
      "metadata": {
        "id": "G6hBHgwnzoPE"
      },
      "source": [
        "df12 = df11"
      ],
      "execution_count": 265,
      "outputs": []
    },
    {
      "cell_type": "code",
      "metadata": {
        "id": "AMkSL-hcxz9G"
      },
      "source": [
        "df12['Department'].fillna(\"Bench\", inplace=True)"
      ],
      "execution_count": 266,
      "outputs": []
    },
    {
      "cell_type": "code",
      "metadata": {
        "colab": {
          "base_uri": "https://localhost:8080/"
        },
        "id": "Q0Nq4H51yCtm",
        "outputId": "0be934b0-884a-42f1-b205-cd6dde025f65"
      },
      "source": [
        "df12.isnull().sum()\n",
        "# De esta forma se comprueba que Department quedó con 0 NaN."
      ],
      "execution_count": 267,
      "outputs": [
        {
          "output_type": "execute_result",
          "data": {
            "text/plain": [
              "id                 0\n",
              "FirstName          0\n",
              "LastName           0\n",
              "Gender             0\n",
              "Birthday           0\n",
              "Status           186\n",
              "Salary             0\n",
              "Department         0\n",
              "HourlyRate        25\n",
              "MaritalStatus     22\n",
              "OverTime           0\n",
              "dtype: int64"
            ]
          },
          "metadata": {
            "tags": []
          },
          "execution_count": 267
        }
      ]
    },
    {
      "cell_type": "markdown",
      "metadata": {
        "id": "Ti6W4ObbyItt"
      },
      "source": [
        "#13. Reemplazar los valores nulos de la columna “HourlyRate” por la mediana"
      ]
    },
    {
      "cell_type": "code",
      "metadata": {
        "id": "FwqCOYu3zx74"
      },
      "source": [
        "df13 = df12"
      ],
      "execution_count": 268,
      "outputs": []
    },
    {
      "cell_type": "code",
      "metadata": {
        "id": "Pr9chfYbyL__"
      },
      "source": [
        "median=df13.median(skipna=True)"
      ],
      "execution_count": 269,
      "outputs": []
    },
    {
      "cell_type": "code",
      "metadata": {
        "colab": {
          "base_uri": "https://localhost:8080/"
        },
        "id": "62pUbzx0yyCF",
        "outputId": "6e5dde24-fba9-42d4-a5ab-2ea2742ed271"
      },
      "source": [
        "print(median)"
      ],
      "execution_count": 270,
      "outputs": [
        {
          "output_type": "stream",
          "text": [
            "id               492.0\n",
            "Salary        101162.0\n",
            "HourlyRate        67.0\n",
            "dtype: float64\n"
          ],
          "name": "stdout"
        }
      ]
    },
    {
      "cell_type": "code",
      "metadata": {
        "id": "dL5NtMgZy-5v"
      },
      "source": [
        "df13['HourlyRate'].fillna(67, inplace=True)"
      ],
      "execution_count": 271,
      "outputs": []
    },
    {
      "cell_type": "code",
      "metadata": {
        "colab": {
          "base_uri": "https://localhost:8080/"
        },
        "id": "BnV0NjqBzGS8",
        "outputId": "82aae0d6-863c-477c-9a9d-303d2ce0dcb7"
      },
      "source": [
        "df13.isnull().sum()\n",
        "# De esta forma se comprueba que HourlyRate quedó con 0 NaN."
      ],
      "execution_count": 273,
      "outputs": [
        {
          "output_type": "execute_result",
          "data": {
            "text/plain": [
              "id                 0\n",
              "FirstName          0\n",
              "LastName           0\n",
              "Gender             0\n",
              "Birthday           0\n",
              "Status           186\n",
              "Salary             0\n",
              "Department         0\n",
              "HourlyRate         0\n",
              "MaritalStatus     22\n",
              "OverTime           0\n",
              "dtype: int64"
            ]
          },
          "metadata": {
            "tags": []
          },
          "execution_count": 273
        }
      ]
    },
    {
      "cell_type": "markdown",
      "metadata": {
        "id": "pg5UOa0Vz6XV"
      },
      "source": [
        "#14. Reemplazar los valores perdidos inesperados de la columna “Overtime” por No"
      ]
    },
    {
      "cell_type": "code",
      "metadata": {
        "id": "VGy2ezi562nI"
      },
      "source": [
        "df14 = df13"
      ],
      "execution_count": 274,
      "outputs": []
    },
    {
      "cell_type": "code",
      "metadata": {
        "colab": {
          "base_uri": "https://localhost:8080/"
        },
        "id": "VNV1EWxu7SL9",
        "outputId": "36c5399d-b8a1-4bfd-d94d-93969f47e53b"
      },
      "source": [
        "# Se comprueba cuantos valores NaN tiene la columna OverTime antes del paso 9.\n",
        "df8.isnull().sum()"
      ],
      "execution_count": 275,
      "outputs": [
        {
          "output_type": "execute_result",
          "data": {
            "text/plain": [
              "id                 0\n",
              "FirstName          2\n",
              "LastName           2\n",
              "Gender           207\n",
              "Birthday           2\n",
              "Status           178\n",
              "Salary             2\n",
              "Department        12\n",
              "HourlyRate         2\n",
              "MaritalStatus     25\n",
              "OverTime           2\n",
              "dtype: int64"
            ]
          },
          "metadata": {
            "tags": []
          },
          "execution_count": 275
        }
      ]
    },
    {
      "cell_type": "code",
      "metadata": {
        "colab": {
          "base_uri": "https://localhost:8080/"
        },
        "id": "bf3vpxyQz_rJ",
        "outputId": "248e2f2d-4c09-4e92-b535-b231b874442d"
      },
      "source": [
        "# Se comprueba cuantos valores NaN tiene la columna OverTime despues del paso 9.\n",
        "df9.isnull().sum()"
      ],
      "execution_count": 276,
      "outputs": [
        {
          "output_type": "execute_result",
          "data": {
            "text/plain": [
              "id                 0\n",
              "FirstName          0\n",
              "LastName           0\n",
              "Gender           204\n",
              "Birthday           0\n",
              "Status           175\n",
              "Salary             0\n",
              "Department        10\n",
              "HourlyRate         0\n",
              "MaritalStatus     22\n",
              "OverTime           0\n",
              "dtype: int64"
            ]
          },
          "metadata": {
            "tags": []
          },
          "execution_count": 276
        }
      ]
    },
    {
      "cell_type": "code",
      "metadata": {
        "id": "R12RqLE86-id"
      },
      "source": [
        "# La columna OverTime no cuenta con ningun valor NaN, de hecho analizando el codigo, nos dimos \n",
        "# cuenta que en el paso 9 se eliminaron 3 filas, de la cuales, 2 de ellas tenian valores NaN\n",
        "# en la columna OverTime, por lo tanto, esta columna ya no tiene valores NaN desde el paso 9. "
      ],
      "execution_count": 277,
      "outputs": []
    },
    {
      "cell_type": "markdown",
      "metadata": {
        "id": "stHyyWlx70li"
      },
      "source": [
        "#15. Salvar el dataframe una vez realizado el procesamiento de los puntos anteriores"
      ]
    },
    {
      "cell_type": "code",
      "metadata": {
        "id": "A-Q1OqXV7-mB"
      },
      "source": [
        "df14.to_csv('/content/drive/MyDrive/Caso#3/datosProcesados/20210808_cleanData.csv',header=False)"
      ],
      "execution_count": 279,
      "outputs": []
    }
  ]
}